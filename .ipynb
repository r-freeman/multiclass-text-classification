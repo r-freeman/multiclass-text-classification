{
 "cells": [
  {
   "cell_type": "code",
   "execution_count": 14,
   "metadata": {},
   "outputs": [
    {
     "data": {
      "text/html": [
       "<div>\n",
       "<style scoped>\n",
       "    .dataframe tbody tr th:only-of-type {\n",
       "        vertical-align: middle;\n",
       "    }\n",
       "\n",
       "    .dataframe tbody tr th {\n",
       "        vertical-align: top;\n",
       "    }\n",
       "\n",
       "    .dataframe thead th {\n",
       "        text-align: right;\n",
       "    }\n",
       "</style>\n",
       "<table border=\"1\" class=\"dataframe\">\n",
       "  <thead>\n",
       "    <tr style=\"text-align: right;\">\n",
       "      <th></th>\n",
       "      <th>label</th>\n",
       "      <th>document</th>\n",
       "    </tr>\n",
       "  </thead>\n",
       "  <tbody>\n",
       "    <tr>\n",
       "      <th>0</th>\n",
       "      <td>FEEDBACK</td>\n",
       "      <td>I'm not happy with the service, what do I have...</td>\n",
       "    </tr>\n",
       "    <tr>\n",
       "      <th>1</th>\n",
       "      <td>ORDER</td>\n",
       "      <td>do you mind asking Alexa how I could check my ...</td>\n",
       "    </tr>\n",
       "    <tr>\n",
       "      <th>2</th>\n",
       "      <td>CONTACT</td>\n",
       "      <td>ask alexa how to call customer supoort, please</td>\n",
       "    </tr>\n",
       "    <tr>\n",
       "      <th>3</th>\n",
       "      <td>PAYMENT</td>\n",
       "      <td>I have an issue making a payment, how can I re...</td>\n",
       "    </tr>\n",
       "    <tr>\n",
       "      <th>4</th>\n",
       "      <td>CANCELLATION_FEE</td>\n",
       "      <td>can u ask alexa where to see the cancellation ...</td>\n",
       "    </tr>\n",
       "  </tbody>\n",
       "</table>\n",
       "</div>"
      ],
      "text/plain": [
       "              label                                           document\n",
       "0          FEEDBACK  I'm not happy with the service, what do I have...\n",
       "1             ORDER  do you mind asking Alexa how I could check my ...\n",
       "2           CONTACT     ask alexa how to call customer supoort, please\n",
       "3           PAYMENT  I have an issue making a payment, how can I re...\n",
       "4  CANCELLATION_FEE  can u ask alexa where to see the cancellation ..."
      ]
     },
     "execution_count": 14,
     "metadata": {},
     "output_type": "execute_result"
    }
   ],
   "source": [
    "import pandas as pd\n",
    "import string\n",
    "\n",
    "data = pd.read_csv(\"customer-support.csv\", header=0)\n",
    "data.head()"
   ]
  },
  {
   "cell_type": "code",
   "execution_count": 15,
   "metadata": {},
   "outputs": [
    {
     "data": {
      "text/html": [
       "<div>\n",
       "<style scoped>\n",
       "    .dataframe tbody tr th:only-of-type {\n",
       "        vertical-align: middle;\n",
       "    }\n",
       "\n",
       "    .dataframe tbody tr th {\n",
       "        vertical-align: top;\n",
       "    }\n",
       "\n",
       "    .dataframe thead th {\n",
       "        text-align: right;\n",
       "    }\n",
       "</style>\n",
       "<table border=\"1\" class=\"dataframe\">\n",
       "  <thead>\n",
       "    <tr style=\"text-align: right;\">\n",
       "      <th></th>\n",
       "      <th>label</th>\n",
       "      <th>document</th>\n",
       "      <th>document_text_clean</th>\n",
       "    </tr>\n",
       "  </thead>\n",
       "  <tbody>\n",
       "    <tr>\n",
       "      <th>0</th>\n",
       "      <td>FEEDBACK</td>\n",
       "      <td>I'm not happy with the service, what do I have...</td>\n",
       "      <td>Im not happy with the service what do I have t...</td>\n",
       "    </tr>\n",
       "    <tr>\n",
       "      <th>1</th>\n",
       "      <td>ORDER</td>\n",
       "      <td>do you mind asking Alexa how I could check my ...</td>\n",
       "      <td>do you mind asking Alexa how I could check my ...</td>\n",
       "    </tr>\n",
       "    <tr>\n",
       "      <th>2</th>\n",
       "      <td>CONTACT</td>\n",
       "      <td>ask alexa how to call customer supoort, please</td>\n",
       "      <td>ask alexa how to call customer supoort please</td>\n",
       "    </tr>\n",
       "    <tr>\n",
       "      <th>3</th>\n",
       "      <td>PAYMENT</td>\n",
       "      <td>I have an issue making a payment, how can I re...</td>\n",
       "      <td>I have an issue making a payment how can I rep...</td>\n",
       "    </tr>\n",
       "    <tr>\n",
       "      <th>4</th>\n",
       "      <td>CANCELLATION_FEE</td>\n",
       "      <td>can u ask alexa where to see the cancellation ...</td>\n",
       "      <td>can u ask alexa where to see the cancellation ...</td>\n",
       "    </tr>\n",
       "  </tbody>\n",
       "</table>\n",
       "</div>"
      ],
      "text/plain": [
       "              label                                           document  \\\n",
       "0          FEEDBACK  I'm not happy with the service, what do I have...   \n",
       "1             ORDER  do you mind asking Alexa how I could check my ...   \n",
       "2           CONTACT     ask alexa how to call customer supoort, please   \n",
       "3           PAYMENT  I have an issue making a payment, how can I re...   \n",
       "4  CANCELLATION_FEE  can u ask alexa where to see the cancellation ...   \n",
       "\n",
       "                                 document_text_clean  \n",
       "0  Im not happy with the service what do I have t...  \n",
       "1  do you mind asking Alexa how I could check my ...  \n",
       "2      ask alexa how to call customer supoort please  \n",
       "3  I have an issue making a payment how can I rep...  \n",
       "4  can u ask alexa where to see the cancellation ...  "
      ]
     },
     "execution_count": 15,
     "metadata": {},
     "output_type": "execute_result"
    }
   ],
   "source": [
    "def remove_punct(text):\n",
    "    text_nopunct = \"\".join([char for char in text if char not in string.punctuation])\n",
    "    return text_nopunct\n",
    "\n",
    "data['document_text_clean'] = data['document'].apply(lambda x: remove_punct(x))\n",
    "data.head()"
   ]
  },
  {
   "cell_type": "code",
   "execution_count": null,
   "metadata": {},
   "outputs": [],
   "source": []
  }
 ],
 "metadata": {
  "kernelspec": {
   "display_name": "Python 3",
   "language": "python",
   "name": "python3"
  },
  "language_info": {
   "codemirror_mode": {
    "name": "ipython",
    "version": 3
   },
   "file_extension": ".py",
   "mimetype": "text/x-python",
   "name": "python",
   "nbconvert_exporter": "python",
   "pygments_lexer": "ipython3",
   "version": "3.8.3"
  }
 },
 "nbformat": 4,
 "nbformat_minor": 4
}
