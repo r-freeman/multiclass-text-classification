{
 "cells": [
  {
   "cell_type": "code",
   "execution_count": 68,
   "metadata": {
    "scrolled": false
   },
   "outputs": [
    {
     "data": {
      "text/html": [
       "<div>\n",
       "<style scoped>\n",
       "    .dataframe tbody tr th:only-of-type {\n",
       "        vertical-align: middle;\n",
       "    }\n",
       "\n",
       "    .dataframe tbody tr th {\n",
       "        vertical-align: top;\n",
       "    }\n",
       "\n",
       "    .dataframe thead th {\n",
       "        text-align: right;\n",
       "    }\n",
       "</style>\n",
       "<table border=\"1\" class=\"dataframe\">\n",
       "  <thead>\n",
       "    <tr style=\"text-align: right;\">\n",
       "      <th></th>\n",
       "      <th>utterance</th>\n",
       "      <th>category</th>\n",
       "      <th>intent</th>\n",
       "    </tr>\n",
       "  </thead>\n",
       "  <tbody>\n",
       "    <tr>\n",
       "      <th>0</th>\n",
       "      <td>I'm not happy with the service, what do I have...</td>\n",
       "      <td>FEEDBACK</td>\n",
       "      <td>complaint</td>\n",
       "    </tr>\n",
       "    <tr>\n",
       "      <th>1</th>\n",
       "      <td>do you mind asking Alexa how I could check my ...</td>\n",
       "      <td>ORDER</td>\n",
       "      <td>track_order</td>\n",
       "    </tr>\n",
       "    <tr>\n",
       "      <th>2</th>\n",
       "      <td>ask alexa how to call customer supoort, please</td>\n",
       "      <td>CONTACT</td>\n",
       "      <td>contact_customer_service</td>\n",
       "    </tr>\n",
       "    <tr>\n",
       "      <th>3</th>\n",
       "      <td>I have an issue making a payment, how can I re...</td>\n",
       "      <td>PAYMENT</td>\n",
       "      <td>payment_issue</td>\n",
       "    </tr>\n",
       "    <tr>\n",
       "      <th>4</th>\n",
       "      <td>can u ask alexa where to see the cancellation ...</td>\n",
       "      <td>CANCELLATION_FEE</td>\n",
       "      <td>check_cancellation_fee</td>\n",
       "    </tr>\n",
       "  </tbody>\n",
       "</table>\n",
       "</div>"
      ],
      "text/plain": [
       "                                           utterance          category  \\\n",
       "0  I'm not happy with the service, what do I have...          FEEDBACK   \n",
       "1  do you mind asking Alexa how I could check my ...             ORDER   \n",
       "2     ask alexa how to call customer supoort, please           CONTACT   \n",
       "3  I have an issue making a payment, how can I re...           PAYMENT   \n",
       "4  can u ask alexa where to see the cancellation ...  CANCELLATION_FEE   \n",
       "\n",
       "                     intent  \n",
       "0                 complaint  \n",
       "1               track_order  \n",
       "2  contact_customer_service  \n",
       "3             payment_issue  \n",
       "4    check_cancellation_fee  "
      ]
     },
     "execution_count": 68,
     "metadata": {},
     "output_type": "execute_result"
    }
   ],
   "source": [
    "import pandas as pd\n",
    "\n",
    "df = pd.read_csv(\"dataset/bitext_free_dataset.csv\", header=0)\n",
    "df.columns=['utterance', 'category', 'intent']\n",
    "df = df[:10000]\n",
    "\n",
    "categories = []\n",
    "for category in df['category'].unique():\n",
    "    categories.append(category)\n",
    "\n",
    "    \n",
    "df.head()"
   ]
  },
  {
   "cell_type": "code",
   "execution_count": 54,
   "metadata": {
    "scrolled": false
   },
   "outputs": [
    {
     "data": {
      "text/plain": [
       "<matplotlib.axes._subplots.AxesSubplot at 0x29620465910>"
      ]
     },
     "execution_count": 54,
     "metadata": {},
     "output_type": "execute_result"
    },
    {
     "data": {
      "image/png": "[encoded data removed]",
      "text/plain": [
       "<Figure size 576x432 with 1 Axes>"
      ]
     },
     "metadata": {
      "needs_background": "light"
     },
     "output_type": "display_data"
    }
   ],
   "source": [
    "import matplotlib.pyplot as plt\n",
    "\n",
    "fig = plt.figure(figsize= (8, 6))\n",
    "df.groupby('category').utterance.count().plot.bar(ylim=0)"
   ]
  },
  {
   "cell_type": "markdown",
   "metadata": {},
   "source": [
    "---"
   ]
  },
  {
   "cell_type": "markdown",
   "metadata": {},
   "source": [
    "## Text Preprocessing\n",
    "\n",
    "In this section, we use text preprocessing techniques to remove words or characters that interfere or add no value to our text analysis. Here, the text preprocessing code converts text to lower case, removes punctuation, tokenises sentences into individual words (tokens) and removes stop words.\n",
    "\n",
    "### To Do\n",
    "* Spell checking\n",
    "* Remove profanity\n",
    "* Stemming\n",
    "* Lemmatisation"
   ]
  },
  {
   "cell_type": "code",
   "execution_count": 55,
   "metadata": {
    "scrolled": true
   },
   "outputs": [],
   "source": [
    "import nltk\n",
    "import string\n",
    "import re\n",
    "\n",
    "\n",
    "stopwords = nltk.corpus.stopwords.words('english')\n",
    "       \n",
    "    \n",
    "def clean_text(text):\n",
    "    \"\"\"\n",
    "    Convert text to lower case and remove punctuation\n",
    "    \"\"\"\n",
    "    text = \"\".join([word.lower() for word in text if word not in string.punctuation])\n",
    "    return text\n",
    "\n",
    "def tokenize_text(text):\n",
    "    \"\"\"\n",
    "    Break sentences into individual tokens and remove stop words\n",
    "    \"\"\"\n",
    "    tokens = re.split('\\W+', text)\n",
    "    text = [word for word in tokens if word not in stopwords]\n",
    "    return text"
   ]
  },
  {
   "cell_type": "code",
   "execution_count": 56,
   "metadata": {},
   "outputs": [],
   "source": [
    "from sklearn.model_selection import train_test_split\n",
    "\n",
    "x = df.utterance\n",
    "y = df.category\n",
    "\n",
    "x_train, x_test, y_train, y_test = train_test_split(x, y, test_size=0.3, random_state= 42)"
   ]
  },
  {
   "cell_type": "code",
   "execution_count": 57,
   "metadata": {},
   "outputs": [
    {
     "name": "stdout",
     "output_type": "stream",
     "text": [
      "accuracy 0.9846666666666667\n",
      "                  precision    recall  f1-score   support\n",
      "\n",
      "        FEEDBACK       0.98      0.99      0.98       637\n",
      "           ORDER       1.00      0.97      0.99        40\n",
      "         CONTACT       1.00      1.00      1.00       430\n",
      "         PAYMENT       0.96      1.00      0.98        66\n",
      "CANCELLATION_FEE       1.00      1.00      1.00       182\n",
      "         ACCOUNT       0.97      1.00      0.98       339\n",
      "        INVOICES       1.00      0.71      0.83        35\n",
      "         REFUNDS       0.99      0.98      0.99       331\n",
      "        DELIVERY       0.98      1.00      0.99       645\n",
      "      NEWSLETTER       0.99      0.98      0.99       257\n",
      "        SHIPPING       1.00      0.71      0.83        38\n",
      "\n",
      "        accuracy                           0.98      3000\n",
      "       macro avg       0.99      0.94      0.96      3000\n",
      "    weighted avg       0.98      0.98      0.98      3000\n",
      "\n",
      "['INVOICES']\n"
     ]
    },
    {
     "data": {
      "text/html": [
       "<div>\n",
       "<style scoped>\n",
       "    .dataframe tbody tr th:only-of-type {\n",
       "        vertical-align: middle;\n",
       "    }\n",
       "\n",
       "    .dataframe tbody tr th {\n",
       "        vertical-align: top;\n",
       "    }\n",
       "\n",
       "    .dataframe thead th {\n",
       "        text-align: right;\n",
       "    }\n",
       "</style>\n",
       "<table border=\"1\" class=\"dataframe\">\n",
       "  <thead>\n",
       "    <tr style=\"text-align: right;\">\n",
       "      <th></th>\n",
       "      <th>utterance</th>\n",
       "      <th>category</th>\n",
       "      <th>intent</th>\n",
       "    </tr>\n",
       "  </thead>\n",
       "  <tbody>\n",
       "    <tr>\n",
       "      <th>5391</th>\n",
       "      <td>help me see my invoices</td>\n",
       "      <td>INVOICES</td>\n",
       "      <td>check_invoices</td>\n",
       "    </tr>\n",
       "  </tbody>\n",
       "</table>\n",
       "</div>"
      ],
      "text/plain": [
       "                    utterance  category          intent\n",
       "5391  help me see my invoices  INVOICES  check_invoices"
      ]
     },
     "execution_count": 57,
     "metadata": {},
     "output_type": "execute_result"
    }
   ],
   "source": [
    "from sklearn.naive_bayes import MultinomialNB\n",
    "from sklearn.pipeline import Pipeline\n",
    "from sklearn.feature_extraction.text import CountVectorizer\n",
    "from sklearn.feature_extraction.text import TfidfTransformer\n",
    "from sklearn.metrics import accuracy_score\n",
    "from sklearn.metrics import classification_report\n",
    "\n",
    "nb = Pipeline([('vect', CountVectorizer(preprocessor= clean_text, tokenizer= tokenize_text)),\n",
    "               ('tfidf', TfidfTransformer()),\n",
    "               ('clf', MultinomialNB())])\n",
    "\n",
    "nb.fit(x_train, y_train)\n",
    "\n",
    "y_pred = nb.predict(x_test)\n",
    "\n",
    "print('accuracy %s' % accuracy_score(y_pred, y_test))\n",
    "print(classification_report(y_test, y_pred, target_names= categories))\n",
    "\n",
    "random_df = df.sample()\n",
    "print(nb.predict([random_df['utterance']]))\n",
    "random_df.head()"
   ]
  },
  {
   "cell_type": "code",
   "execution_count": 58,
   "metadata": {},
   "outputs": [
    {
     "name": "stdout",
     "output_type": "stream",
     "text": [
      "accuracy 0.9956666666666667\n",
      "                  precision    recall  f1-score   support\n",
      "\n",
      "        FEEDBACK       1.00      1.00      1.00       637\n",
      "           ORDER       0.98      1.00      0.99        40\n",
      "         CONTACT       1.00      1.00      1.00       430\n",
      "         PAYMENT       0.96      1.00      0.98        66\n",
      "CANCELLATION_FEE       1.00      1.00      1.00       182\n",
      "         ACCOUNT       0.99      1.00      0.99       339\n",
      "        INVOICES       1.00      1.00      1.00        35\n",
      "         REFUNDS       0.99      1.00      1.00       331\n",
      "        DELIVERY       1.00      1.00      1.00       645\n",
      "      NEWSLETTER       1.00      0.98      0.99       257\n",
      "        SHIPPING       1.00      1.00      1.00        38\n",
      "\n",
      "        accuracy                           1.00      3000\n",
      "       macro avg       0.99      1.00      0.99      3000\n",
      "    weighted avg       1.00      1.00      1.00      3000\n",
      "\n",
      "['PAYMENT']\n"
     ]
    },
    {
     "data": {
      "text/html": [
       "<div>\n",
       "<style scoped>\n",
       "    .dataframe tbody tr th:only-of-type {\n",
       "        vertical-align: middle;\n",
       "    }\n",
       "\n",
       "    .dataframe tbody tr th {\n",
       "        vertical-align: top;\n",
       "    }\n",
       "\n",
       "    .dataframe thead th {\n",
       "        text-align: right;\n",
       "    }\n",
       "</style>\n",
       "<table border=\"1\" class=\"dataframe\">\n",
       "  <thead>\n",
       "    <tr style=\"text-align: right;\">\n",
       "      <th></th>\n",
       "      <th>utterance</th>\n",
       "      <th>category</th>\n",
       "      <th>intent</th>\n",
       "    </tr>\n",
       "  </thead>\n",
       "  <tbody>\n",
       "    <tr>\n",
       "      <th>4703</th>\n",
       "      <td>I got an error message when I attempted to mak...</td>\n",
       "      <td>PAYMENT</td>\n",
       "      <td>payment_issue</td>\n",
       "    </tr>\n",
       "  </tbody>\n",
       "</table>\n",
       "</div>"
      ],
      "text/plain": [
       "                                              utterance category  \\\n",
       "4703  I got an error message when I attempted to mak...  PAYMENT   \n",
       "\n",
       "             intent  \n",
       "4703  payment_issue  "
      ]
     },
     "execution_count": 58,
     "metadata": {},
     "output_type": "execute_result"
    }
   ],
   "source": [
    "from sklearn.linear_model import SGDClassifier\n",
    "\n",
    "sgd = Pipeline([('vect', CountVectorizer(preprocessor= clean_text, tokenizer= tokenize_text)),\n",
    "                ('tfidf', TfidfTransformer()),\n",
    "                ('clf', SGDClassifier(loss='hinge', penalty='l2', alpha=1e-3))])\n",
    "\n",
    "sgd.fit(x_train, y_train)\n",
    "\n",
    "y_pred = sgd.predict(x_test)\n",
    "\n",
    "print('accuracy %s' % accuracy_score(y_pred, y_test))\n",
    "print(classification_report(y_test, y_pred, target_names= categories))\n",
    "\n",
    "random_df = df.sample()\n",
    "print(sgd.predict([random_df['utterance']]))\n",
    "random_df.head()"
   ]
  },
  {
   "cell_type": "code",
   "execution_count": 59,
   "metadata": {
    "scrolled": true
   },
   "outputs": [
    {
     "name": "stdout",
     "output_type": "stream",
     "text": [
      "accuracy 0.9963333333333333\n",
      "                  precision    recall  f1-score   support\n",
      "\n",
      "        FEEDBACK       1.00      1.00      1.00       637\n",
      "           ORDER       1.00      1.00      1.00        40\n",
      "         CONTACT       1.00      1.00      1.00       430\n",
      "         PAYMENT       0.96      1.00      0.98        66\n",
      "CANCELLATION_FEE       1.00      1.00      1.00       182\n",
      "         ACCOUNT       0.99      1.00      0.99       339\n",
      "        INVOICES       1.00      1.00      1.00        35\n",
      "         REFUNDS       0.99      0.99      0.99       331\n",
      "        DELIVERY       1.00      1.00      1.00       645\n",
      "      NEWSLETTER       1.00      0.98      0.99       257\n",
      "        SHIPPING       1.00      1.00      1.00        38\n",
      "\n",
      "        accuracy                           1.00      3000\n",
      "       macro avg       0.99      1.00      1.00      3000\n",
      "    weighted avg       1.00      1.00      1.00      3000\n",
      "\n",
      "['PAYMENT']\n"
     ]
    },
    {
     "data": {
      "text/html": [
       "<div>\n",
       "<style scoped>\n",
       "    .dataframe tbody tr th:only-of-type {\n",
       "        vertical-align: middle;\n",
       "    }\n",
       "\n",
       "    .dataframe tbody tr th {\n",
       "        vertical-align: top;\n",
       "    }\n",
       "\n",
       "    .dataframe thead th {\n",
       "        text-align: right;\n",
       "    }\n",
       "</style>\n",
       "<table border=\"1\" class=\"dataframe\">\n",
       "  <thead>\n",
       "    <tr style=\"text-align: right;\">\n",
       "      <th></th>\n",
       "      <th>utterance</th>\n",
       "      <th>category</th>\n",
       "      <th>intent</th>\n",
       "    </tr>\n",
       "  </thead>\n",
       "  <tbody>\n",
       "    <tr>\n",
       "      <th>9521</th>\n",
       "      <td>I want to ese your payment options, what do I ...</td>\n",
       "      <td>PAYMENT</td>\n",
       "      <td>check_payment_methods</td>\n",
       "    </tr>\n",
       "  </tbody>\n",
       "</table>\n",
       "</div>"
      ],
      "text/plain": [
       "                                              utterance category  \\\n",
       "9521  I want to ese your payment options, what do I ...  PAYMENT   \n",
       "\n",
       "                     intent  \n",
       "9521  check_payment_methods  "
      ]
     },
     "execution_count": 59,
     "metadata": {},
     "output_type": "execute_result"
    }
   ],
   "source": [
    "from sklearn.linear_model import LogisticRegression\n",
    "\n",
    "logreg = Pipeline([('vect', CountVectorizer(preprocessor= clean_text, tokenizer= tokenize_text)),\n",
    "                   ('tfidf', TfidfTransformer()),\n",
    "                   ('clf', LogisticRegression(n_jobs= 1, C=1e5))])\n",
    "\n",
    "logreg.fit(x_train, y_train)\n",
    "\n",
    "y_pred = logreg.predict(x_test)\n",
    "\n",
    "print('accuracy %s' % accuracy_score(y_pred, y_test))\n",
    "print(classification_report(y_test, y_pred, target_names= categories))\n",
    "\n",
    "random_df = df.sample()\n",
    "print(logreg.predict([random_df['utterance']]))\n",
    "random_df.head()"
   ]
  },
  {
   "cell_type": "markdown",
   "metadata": {},
   "source": [
    "---"
   ]
  },
  {
   "cell_type": "markdown",
   "metadata": {},
   "source": [
    "## Model Persistence\n",
    "\n",
    "In this section, we use joblib to persist the Logistic Regression model to disk for future use. This is useful because we can load the trained model from disk and make predictions without having to retrain the model."
   ]
  },
  {
   "cell_type": "code",
   "execution_count": 80,
   "metadata": {},
   "outputs": [
    {
     "data": {
      "text/plain": [
       "['models/logreg.joblib']"
      ]
     },
     "execution_count": 80,
     "metadata": {},
     "output_type": "execute_result"
    }
   ],
   "source": [
    "from joblib import dump, load\n",
    "\n",
    "# save the Logistic Regression model to disk\n",
    "dump(logreg, 'models/logreg.joblib')"
   ]
  },
  {
   "cell_type": "code",
   "execution_count": 79,
   "metadata": {},
   "outputs": [
    {
     "name": "stdout",
     "output_type": "stream",
     "text": [
      "accuracy 0.9963333333333333\n",
      "                  precision    recall  f1-score   support\n",
      "\n",
      "        FEEDBACK       1.00      1.00      1.00       637\n",
      "           ORDER       1.00      1.00      1.00        40\n",
      "         CONTACT       1.00      1.00      1.00       430\n",
      "         PAYMENT       0.96      1.00      0.98        66\n",
      "CANCELLATION_FEE       1.00      1.00      1.00       182\n",
      "         ACCOUNT       0.99      1.00      0.99       339\n",
      "        INVOICES       1.00      1.00      1.00        35\n",
      "         REFUNDS       0.99      0.99      0.99       331\n",
      "        DELIVERY       1.00      1.00      1.00       645\n",
      "      NEWSLETTER       1.00      0.98      0.99       257\n",
      "        SHIPPING       1.00      1.00      1.00        38\n",
      "\n",
      "        accuracy                           1.00      3000\n",
      "       macro avg       0.99      1.00      1.00      3000\n",
      "    weighted avg       1.00      1.00      1.00      3000\n",
      "\n",
      "['ACCOUNT']\n"
     ]
    },
    {
     "data": {
      "text/html": [
       "<div>\n",
       "<style scoped>\n",
       "    .dataframe tbody tr th:only-of-type {\n",
       "        vertical-align: middle;\n",
       "    }\n",
       "\n",
       "    .dataframe tbody tr th {\n",
       "        vertical-align: top;\n",
       "    }\n",
       "\n",
       "    .dataframe thead th {\n",
       "        text-align: right;\n",
       "    }\n",
       "</style>\n",
       "<table border=\"1\" class=\"dataframe\">\n",
       "  <thead>\n",
       "    <tr style=\"text-align: right;\">\n",
       "      <th></th>\n",
       "      <th>utterance</th>\n",
       "      <th>category</th>\n",
       "      <th>intent</th>\n",
       "    </tr>\n",
       "  </thead>\n",
       "  <tbody>\n",
       "    <tr>\n",
       "      <th>6976</th>\n",
       "      <td>my profile's been hacked, and I need help gett...</td>\n",
       "      <td>ACCOUNT</td>\n",
       "      <td>recover_password</td>\n",
       "    </tr>\n",
       "  </tbody>\n",
       "</table>\n",
       "</div>"
      ],
      "text/plain": [
       "                                              utterance category  \\\n",
       "6976  my profile's been hacked, and I need help gett...  ACCOUNT   \n",
       "\n",
       "                intent  \n",
       "6976  recover_password  "
      ]
     },
     "execution_count": 79,
     "metadata": {},
     "output_type": "execute_result"
    }
   ],
   "source": [
    "# load Logistic Regression model from disk and make prediction\n",
    "logreg = load('models/logreg.joblib')\n",
    "\n",
    "y_pred = logreg.predict(x_test)\n",
    "\n",
    "print('accuracy %s' % accuracy_score(y_pred, y_test))\n",
    "print(classification_report(y_test, y_pred, target_names= categories))\n",
    "\n",
    "random_df = df.sample()\n",
    "print(logreg.predict([random_df['utterance']]))\n",
    "random_df.head()"
   ]
  }
 ],
 "metadata": {
  "kernelspec": {
   "display_name": "Python 3",
   "language": "python",
   "name": "python3"
  },
  "language_info": {
   "codemirror_mode": {
    "name": "ipython",
    "version": 3
   },
   "file_extension": ".py",
   "mimetype": "text/x-python",
   "name": "python",
   "nbconvert_exporter": "python",
   "pygments_lexer": "ipython3",
   "version": "3.8.3"
  }
 },
 "nbformat": 4,
 "nbformat_minor": 4
}
